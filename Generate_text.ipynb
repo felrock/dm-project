{
 "cells": [
  {
   "cell_type": "code",
   "execution_count": 2,
   "metadata": {},
   "outputs": [
    {
     "name": "stdout",
     "output_type": "stream",
     "text": [
      "[nltk_data] Downloading package webtext to\n",
      "[nltk_data]     C:\\Users\\Felix\\AppData\\Roaming\\nltk_data...\n",
      "[nltk_data]   Package webtext is already up-to-date!\n"
     ]
    }
   ],
   "source": [
    "import nltk\n",
    "nltk.download('webtext')\n",
    "from nltk import bigrams, trigrams\n",
    "from nltk.corpus import webtext\n",
    "from collections import Counter, defaultdict\n",
    "from nltk.tokenize import word_tokenize\n",
    "import string\n",
    "import random"
   ]
  },
  {
   "cell_type": "code",
   "execution_count": 28,
   "metadata": {},
   "outputs": [],
   "source": [
    "txtfile = open('sam_content.txt', 'r', encoding='utf-8')\n",
    "docs = []\n",
    "for line in txtfile:\n",
    "    docs.append(line)"
   ]
  },
  {
   "cell_type": "code",
   "execution_count": 29,
   "metadata": {},
   "outputs": [
    {
     "name": "stdout",
     "output_type": "stream",
     "text": [
      "Lionel Messi isn't just the world's greatest soccer player, he's also something of an interesting fashion case. From the polka-dot suit he donned on Monday to accept his fourth Ballon d'Or to the floppy Beatles-esque haircut he rocked in his earlier days to his frequent resemblance of a teenage skater, the Argentine goal machine keeps us entertained with more than just his on-field heroics. SEE ALSO: Messi's Year of Dominance: Watch All 91 Goals in One Epic MashupBuckle your Gucci seatbelt and take a ride through some of Messi's greatest fashion triumphs below. 1. The 'When You Score 91 Goals in a Calendar Year, You Can Wear Whatever You Damn Well Please' LookMessi was resplendent in this reverse-dalmatian polka-dot number when accepting the Ballon d'Or on Monday, sparking plenty of chatter and snide comments on Twitter. But when you score goals at the record-setting rate he did in 2012, you've pretty much earned the right to do whatever you want. (Getty Images/AFP/Fabrice Coffrini)2. The 'Hairy Middle Schooler' LookIn part because he stands just 5-foot-7, Messi often ends up looking like a well-built, hyper-focused middle schooler. He and his FC Barcelona teammates wore these T-shirts in 2011 to honor ailing teammate Eric Abidal, but no one pulled it off quite like Lionel. (Getty Images/AFP/Josep Lago)3. The 'Fashion-Forward Shepherd' LookThis is what Messi wore to the pre-Ballon d'Or ceremony press conference for award nominees on Monday. We're not quite sure what's going on here — it's sort of a hybrid hoodie/outdoor-wear/knit deal, and he seems to sporting a deep-V white tee underneath. Whatever this is, it's safe to say the polka-dot suit he changed in to later was an upgrade. (Getty Images/Getty Images Sport/Christof Koepsel)4. The 'Beatles Mop-Top' LookThis was Messi's look at the 2010 World Cup in South Africa, calling to mind the style of four young Liverpool lads back in the 1960s. The Flea's on-field wizardry was all the more magical when he was flummoxing defenders with this shaggy 'do instead of the more conservative coif he sports today. (Getty Images/Getty Images Sport/Richard Heathcote)5. The 'Straight Up Speedo' LookYes, we totally get that the Speedo is an accepted form of male swimming attire outside the United States. But for us here in the U.S., it's still a goofy way to roll — especially, for some reason, when you're Lionel Messi. This is our hero relaxing in Rio de Janeiro with then-girlfriend and now-wife Antonella Roccuzzo in 2010. (Getty Images/AFP)6. The 'School You With My Eyes Closed' LookMessi's fashion innovations extend to the pitch itself, too — here he finds a new way to wear his Barca colors. Or perhaps, for (arguably) the greatest player of all time, having full visibility just makes the game a little too easy. (Getty Images/AFP/Lluis Gene)But Messi's outstanding fashion moments don't end here. For example, he also apparently loves wearing this one pair of ripped, acid-washed jeans. Of course, while Messi has exerted four years of player-of-the-year dominance over rival Cristiano Ronaldo, this photo of a murse-wielding CR7 proves that Messi still does have some work to do when it comes to bizarre fashion choices. Thumbnail image via Getty Images/AFP/Fabrice Coffrini\n",
      "\n"
     ]
    }
   ],
   "source": [
    "print(docs[0])"
   ]
  },
  {
   "cell_type": "code",
   "execution_count": 30,
   "metadata": {},
   "outputs": [],
   "source": [
    "# split into words\n",
    "import re\n",
    "clean_docs = []\n",
    "table = str.maketrans('', '', string.punctuation)\n",
    "for line in docs:\n",
    "    tokens = re.split('(\\W)', line)\n",
    "    words = filter(lambda x:x!=' ', tokens)\n",
    "    words = filter(None, words)\n",
    "    clean_docs.append(list(words))"
   ]
  },
  {
   "cell_type": "code",
   "execution_count": 37,
   "metadata": {},
   "outputs": [],
   "source": [
    "#print(clean_docs[0])"
   ]
  },
  {
   "cell_type": "code",
   "execution_count": 32,
   "metadata": {},
   "outputs": [],
   "source": [
    "model = defaultdict(lambda: defaultdict(lambda: 0))\n",
    "\n",
    "for doc in clean_docs:\n",
    "    for w1,w2,w3 in trigrams(doc, pad_right=True, pad_left=True):\n",
    "        model[(w1,w2)][w3] += 1\n",
    "            \n",
    "for w1,w2 in model:\n",
    "    total_count = float(sum(model[w1,w2].values()))\n",
    "    for w3 in model[w1,w2]:\n",
    "        model[w1,w2][w3] /= total_count\n",
    "        "
   ]
  },
  {
   "cell_type": "code",
   "execution_count": 33,
   "metadata": {},
   "outputs": [
    {
     "name": "stdout",
     "output_type": "stream",
     "text": [
      " Nick Youn? ( Laughs ) But Mess's top pick in last yea, I figured I would never drive thru watts \" — that you have to be running an experiment to see who ranks wher. NBAWhen it comes to NFL owners — the money we want to hit War, J, preens after defeating Juan Manual Marquez on Oc. 1. Olympic Star Tom Daley Outs a Hateful Troll on Twitte. Hi everybod. Go get i, howeve, has more than 1. Judgment FailBut that was't change any of the Seattle Post - Standar's Funniest Sports FailsSports Fails. Golf Cart FailThis runaway vehicle wreaked minor on - field havoc following a high school senior from Virginia wh's couga. Bonus points for the first time he accidentally gave us his net worth is estimated at nearly $ 90, 000 - meter hurdles championship in Moscow on Au. 1. Image : Al Bello / Getty Images1. David Luiz of Brazil is ecstatic after a teammat's Funniest Sports Freak - outs. Handball Player Drops His Shorts an, as w're gonna pump up the fieldSpai's burgeoning tech community — Google says its official Twitter page : I fully recognize the moves that Kobe has done and 'll keep covering the Game'biggest obstacle will be to dial in an international friendly soccer match against FC Dallas in Seattl. Image : Ivan Sekretarev / Associated Press. Germany vs USA on Fe. 1. Image : Kevin Ware Tweets the Most Inspiring Pic Yo're gonna pump up the stadiu. \" . Shaquille 's top score, using a rope to pull of the World Cup draw land them in getting food they enjoy from hom. More succinctl, it may make you any sort of new episode. So the're not quite sure why this mascot thought standing on top of dispersing it through to this description ca't changed the name during the Confederations Cup in Brazi, but dan, that box of some plot to monetize his son by repeatedly striking him with a 11 seconds to go is never the way to do it remains a hard - pressed to find out in some of you : The Incredible Story of a revelation many took as obvious given the vintage treatment by teammates after scoring a goal in hocke, you actually wi. 1, 2013Image : Lintao Zhang / Getty Images2. Maria Sharapova plays a backhand during the Sochi 2014 Winter Olympics at an announcement ceremony in Buenos Aire. Image : Ezra Shaw / Getty Images. Sergy Nazin of Russi. Image : Al Bello / Getty Images2. The smartwatch emergence in 2013 have obliterated last yea. Inspired by another playe. Brian McKeeve, CanadaMcKeeve, lef, a more effective than eve. Stewart scored 23 points per gam, clock winding down — i's going to be a sweet spot of SXSW in Austin and just bein, you actually wi. 1. The 19 bumps on the brake. No \" loo. The red and white loo. The Twilight Zone ( Rod Serling ) . Flopping FailIn sport, to \" flop \" is to exaggerate the force of contact in hopes of acknowledgemen, autograph, memorabilia — perhaps all three of them got the last few months and nobody shows up when you could just RUN STRAIGHT THROUGH THE? File under : Neve, Ever Gets Ol. 1. Paying Attention FailAfter what could best be described as an added bonu, widgets from the free throw line mid - fielding phenom . . Me's always better to get one last attempt up than just let the gam's a quite a hoot for many San Franciscans — all encompassed by Nike founder Phil Knigh, the University of Orego's wha's not a good time to welcome the challenge of meeting its $ , 00, while even playoff losses hel, we can get a unique perspective not found elsewher. 1. The scene turned violen. Police have detonated backpac. — William Mazeo ( @ BenGolliver ) December , 2014My 100th # WorldCup http : / / platfor. twitte. com / qDKhKEAEQk — Jorge Sedano ( @ HPbasketball @ MikePradaSBN pi. twitte. co. He sees a whole lot of guys who look like if i's wha. . Flopping FailIn sport, the LeBron James gets a supercu. . Weightlifting FailNot saying we could successfully lift 432 pounds above our head, but dan, tha's downhil, standin, event on March 2, 2014 in Soch, Russi, Olympic swimmer said she recently did of the . . versus Spai, while celebrities and public transportatio. Those fans were during and after rundow. 1. Slam Dunk FailSe? White guys can jum? I's had to feel the pressure is squarely on Brazi. Klinsman's often forgivabl. In the pre - existing Man of the 138th running of the tournament was set up : And this on, against the San Francisco fan, \" sums it up perfectly behind quarterback Drew Brees at the FIFA Confederations Cup in Russi, on Ja. 1. Touchdown Celebration FailWhen you thin? Let us know in the countr's reinstatement marks the end of probably the greatest names you need is a tweetin, \" Boldon will travel with the negotiation process was \" really in need of a puppe. While Hibbert seemed to help others struggling with cance, college athletes have drawn heavy fines in the extended clip posted by Leo Messi ( now wife ) in damages in their shoes at one of the NB's Invitational surf competition on Ja. 2. Time magazine released its first Women of Curling calendar for 201. 2. @ JLin7Jeremy Lin burst onto the pitc. Image : Christian Petersen / Getty Images \n",
      "\n"
     ]
    }
   ],
   "source": [
    "import random\n",
    "import time\n",
    "random.seed(time.time())\n",
    "txtfile = open('sam_content_phoney.txt', 'w', encoding='utf-8')\n",
    "\n",
    "Apostrophe = [\"'\", '.', ',', '?', '!', ]\n",
    "\n",
    "for i in range(len(clean_docs)):\n",
    "    text = [None, None]\n",
    "\n",
    "    sentence_finished = False\n",
    "\n",
    "    while not sentence_finished:\n",
    "        r = random.random()\n",
    "        accumulator = .0\n",
    "\n",
    "        word_prev = None\n",
    "        for word in model[tuple(text[-2:])].keys():\n",
    "            accumulator += model[tuple(text[-2:])][word]\n",
    "\n",
    "            if accumulator >= r:\n",
    "                text.append(word)\n",
    "                break\n",
    "\n",
    "            word_prev = word\n",
    "\n",
    "        if text[-2:] == [None, None]:\n",
    "            sentence_finished = True\n",
    "            \n",
    "    final_sentence = ''\n",
    "    for word in text:\n",
    "        \n",
    "        if word in Apostrophe:\n",
    "            final_sentence = final_sentence[:-1] + word\n",
    "        elif len(final_sentence) > 0 and word and final_sentence[-1] == \"'\":\n",
    "            final_sentence = final_sentence + word\n",
    "        elif word:\n",
    "            final_sentence = final_sentence + ' ' + word\n",
    "            \n",
    "    # remove trailing space\n",
    "    final_sentence = final_sentence[:-1]\n",
    "    txtfile.write(final_sentence + '\\n')\n",
    "txtfile.close()"
   ]
  },
  {
   "cell_type": "code",
   "execution_count": 36,
   "metadata": {},
   "outputs": [],
   "source": [
    "# simple compare\n",
    "txtfile = open('neha_content_phoney.txt', 'r', encoding='utf-8')\n",
    "txtfile.readline()\n",
    "txtfile.close()"
   ]
  },
  {
   "cell_type": "code",
   "execution_count": 71,
   "metadata": {},
   "outputs": [],
   "source": [
    "# make doc2vec stuff here\n",
    "import gensim\n",
    "from gensim.test.utils import datapath, get_tmpfile\n",
    "from gensim.models import KeyedVectors\n",
    "from gensim.scripts.glove2word2vec import glove2word2vec\n",
    "import gensim.downloader as api\n",
    "from gensim.models import Word2Vec\n",
    "from nltk.tokenize import word_tokenize\n",
    "from nltk.stem import WordNetLemmatizer\n",
    "import string\n",
    "from nltk.corpus import stopwords\n",
    "import csv\n",
    "stop_words = set(stopwords.words('english'))"
   ]
  },
  {
   "cell_type": "code",
   "execution_count": 72,
   "metadata": {},
   "outputs": [],
   "source": [
    "# Read content corpus into a dataset list\n",
    "def clean(docs):\n",
    "    import re\n",
    "    clean_docs = []\n",
    "    table = str.maketrans('', '', string.punctuation)\n",
    "    for line in docs:\n",
    "        tokens = re.split('(\\W)', line)\n",
    "        words = filter(lambda x:x!=' ', tokens)\n",
    "        words = filter(None, words)\n",
    "        clean_docs.append(list(words))\n",
    "\n",
    "    return clean_docs\n",
    "\n",
    "corpus_real = open('real/stan_content.txt', 'r', encoding='utf-8')\n",
    "corpus_fake = open('fake/stan_content_phoney.txt', 'r', encoding='utf-8')\n",
    "\n",
    "docs_real = []\n",
    "docs_fake = []\n",
    "\n",
    "for line in corpus_real:\n",
    "    docs_real.append(line)\n",
    "    \n",
    "for line in corpus_fake:\n",
    "    docs_fake.append(line)\n",
    "    \n",
    "docs_real = clean(docs_real)\n",
    "docs_fake = clean(docs_fake)"
   ]
  },
  {
   "cell_type": "code",
   "execution_count": 73,
   "metadata": {},
   "outputs": [],
   "source": [
    "dataset = []\n",
    "i = 0\n",
    "for doc in docs_real:\n",
    "    dataset.append(gensim.models.doc2vec.TaggedDocument(doc, [1, i]))\n",
    "    i += 1\n",
    "for line in docs_fake:\n",
    "    dataset.append(gensim.models.doc2vec.TaggedDocument(doc, [0, i]))\n",
    "    i += 1\n",
    "corpus_file.close()"
   ]
  },
  {
   "cell_type": "code",
   "execution_count": 74,
   "metadata": {},
   "outputs": [],
   "source": [
    "# create model and make vocab\n",
    "d2v_model = gensim.models.doc2vec.Doc2Vec(vector_size=50,\n",
    "                                          min_count=2,\n",
    "                                          epochs=40)\n",
    "d2v_model.build_vocab(dataset)"
   ]
  },
  {
   "cell_type": "code",
   "execution_count": 75,
   "metadata": {},
   "outputs": [
    {
     "name": "stdout",
     "output_type": "stream",
     "text": [
      "Wall time: 13.2 s\n"
     ]
    }
   ],
   "source": [
    "# train model\n",
    "%time d2v_model.train(dataset,total_examples=d2v_model.corpus_count,epochs=d2v_model.epochs)"
   ]
  },
  {
   "cell_type": "code",
   "execution_count": 76,
   "metadata": {},
   "outputs": [],
   "source": [
    "# store doc2vec model\n",
    "d2v_model.save('real/stan_content.model')"
   ]
  },
  {
   "cell_type": "code",
   "execution_count": 77,
   "metadata": {},
   "outputs": [],
   "source": [
    "# add infered vectors\n",
    "# make a dict where the author sim to main author ratio is saved\n",
    "# this takes a while to run\n",
    "\n",
    "vector_real = open('real/stan_vector.txt', 'w', encoding='utf-8')\n",
    "vector_fake = open('fake/stan_phoney_vector.txt', 'w', encoding='utf-8')\n",
    "\n",
    "for i in range(len(dataset)):\n",
    "    inferred_vector = d2v_model.infer_vector(dataset[i].words)\n",
    "    rf = dataset[i].tags[0]\n",
    "    if rf:\n",
    "        \n",
    "        vector_real.write(str(inferred_vector) + '\\n')\n",
    "    else:\n",
    "        vector_fake.write(str(inferred_vector) + '\\n')\n",
    "\n",
    "vector_real.close()\n",
    "vector_fake.close()"
   ]
  },
  {
   "cell_type": "code",
   "execution_count": null,
   "metadata": {},
   "outputs": [],
   "source": []
  }
 ],
 "metadata": {
  "kernelspec": {
   "display_name": "Python 3",
   "language": "python",
   "name": "python3"
  },
  "language_info": {
   "codemirror_mode": {
    "name": "ipython",
    "version": 3
   },
   "file_extension": ".py",
   "mimetype": "text/x-python",
   "name": "python",
   "nbconvert_exporter": "python",
   "pygments_lexer": "ipython3",
   "version": "3.6.4"
  }
 },
 "nbformat": 4,
 "nbformat_minor": 2
}
